{
 "cells": [
  {
   "cell_type": "markdown",
   "metadata": {},
   "source": [
    "# 1. Import Dependencies"
   ]
  },
  {
   "cell_type": "code",
   "execution_count": null,
   "metadata": {},
   "outputs": [
    {
     "ename": "",
     "evalue": "",
     "output_type": "error",
     "traceback": [
      "\u001b[1;31mFailed to start the Kernel. \n",
      "c:\\Users\\ACER-NITRO\\Documents\\3rd Yr - 2nd SEM\\ECE160\\TFODCourse\\tfod\\lib\\site-packages\\traitlets\\traitlets.py:2202: FutureWarning: Supporting extra quotes around strings is deprecated in traitlets 5.0. You can use 'hmac-sha256' instead of '\"hmac-sha256\"' if you require traitlets >=5.\r\n",
      "  warn(\r\n",
      "c:\\Users\\ACER-NITRO\\Documents\\3rd Yr - 2nd SEM\\ECE160\\TFODCourse\\tfod\\lib\\site-packages\\traitlets\\traitlets.py:2157: FutureWarning: Supporting extra quotes around Bytes is deprecated in traitlets 5.0. Use '2457b6ed-4658-4cfc-b548-21d78e0d8274' instead of 'b\"2457b6ed-4658-4cfc-b548-21d78e0d8274\"'.\r\n",
      "  warn(\r\n",
      "Bad file descriptor (C:\\projects\\libzmq\\src\\epoll.cpp:100). \n",
      "View Jupyter <a href='command:jupyter.viewOutput'>log</a> for further details."
     ]
    }
   ],
   "source": [
    "%pip install opencv-python #run pip install opencv sa terminal nalang"
   ]
  },
  {
   "cell_type": "code",
   "execution_count": 1,
   "metadata": {},
   "outputs": [],
   "source": [
    "# Import opencv\n",
    "import cv2 \n",
    "\n",
    "# Import uuid\n",
    "import uuid\n",
    "\n",
    "# Import Operating System\n",
    "import os\n",
    "\n",
    "# Import time\n",
    "import time"
   ]
  },
  {
   "cell_type": "markdown",
   "metadata": {},
   "source": [
    "# 2. Define Images to Collect"
   ]
  },
  {
   "cell_type": "code",
   "execution_count": 11,
   "metadata": {},
   "outputs": [],
   "source": [
    "labels = ['2022', '2023']\n",
    "number_imgs = 6 #chane number of images per class (default = 5)"
   ]
  },
  {
   "cell_type": "markdown",
   "metadata": {},
   "source": [
    "# 3. Setup Folders "
   ]
  },
  {
   "cell_type": "code",
   "execution_count": 12,
   "metadata": {},
   "outputs": [],
   "source": [
    "IMAGES_PATH = os.path.join('Tensorflow', 'workspace', 'images', 'collectedimages')"
   ]
  },
  {
   "cell_type": "code",
   "execution_count": 13,
   "metadata": {},
   "outputs": [
    {
     "name": "stdout",
     "output_type": "stream",
     "text": [
      "Tensorflow\\workspace\\images\\collectedimages\n"
     ]
    }
   ],
   "source": [
    "print(IMAGES_PATH)"
   ]
  },
  {
   "cell_type": "code",
   "execution_count": 14,
   "metadata": {},
   "outputs": [],
   "source": [
    "if not os.path.exists(IMAGES_PATH):\n",
    "    if os.name == 'posix':\n",
    "        !mkdir -p {IMAGES_PATH}\n",
    "    if os.name == 'nt':\n",
    "         !mkdir {IMAGES_PATH}\n",
    "for label in labels:\n",
    "    path = os.path.join(IMAGES_PATH, label)\n",
    "    if not os.path.exists(path):\n",
    "        !mkdir {path}"
   ]
  },
  {
   "cell_type": "markdown",
   "metadata": {},
   "source": [
    "# 4. Capture Images"
   ]
  },
  {
   "cell_type": "code",
   "execution_count": 17,
   "metadata": {},
   "outputs": [
    {
     "name": "stdout",
     "output_type": "stream",
     "text": [
      "Collecting images for 2022\n",
      "Collecting image 0\n",
      "Collecting image 1\n",
      "Collecting image 2\n",
      "Collecting image 3\n",
      "Collecting image 4\n",
      "Collecting images for 2023\n",
      "Collecting image 0\n",
      "Collecting image 1\n",
      "Collecting image 2\n",
      "Collecting image 3\n",
      "Collecting image 4\n"
     ]
    }
   ],
   "source": [
    "for label in labels:\n",
    "    cap = cv2.VideoCapture(0)\n",
    "    print('Collecting images for {}'.format(label))\n",
    "    time.sleep(5)\n",
    "    for imgnum in range(number_imgs):\n",
    "        print('Collecting image {}'.format(imgnum))\n",
    "        ret, frame = cap.read()\n",
    "        imgname = os.path.join(IMAGES_PATH,label,label+'.'+'{}.jpg'.format(str(uuid.uuid1())))\n",
    "        cv2.imwrite(imgname, frame)\n",
    "        cv2.imshow('frame', frame)\n",
    "        time.sleep(3)\n",
    "\n",
    "        if cv2.waitKey(1) & 0xFF == ord('q'):\n",
    "            break\n",
    "cap.release()\n",
    "cv2.destroyAllWindows()"
   ]
  },
  {
   "cell_type": "markdown",
   "metadata": {},
   "source": [
    "# 5. Image Labelling"
   ]
  },
  {
   "cell_type": "code",
   "execution_count": null,
   "metadata": {},
   "outputs": [],
   "source": [
    "!pip install --upgrade pyqt5 lxml"
   ]
  },
  {
   "cell_type": "code",
   "execution_count": 1,
   "metadata": {},
   "outputs": [],
   "source": [
    "LABELIMG_PATH = os.path.join('Tensorflow', 'labelimg')"
   ]
  },
  {
   "cell_type": "code",
   "execution_count": 2,
   "metadata": {},
   "outputs": [
    {
     "name": "stderr",
     "output_type": "stream",
     "text": [
      "Cloning into 'Tensorflow\\labelimg'...\n"
     ]
    }
   ],
   "source": [
    "if not os.path.exists(LABELIMG_PATH):\n",
    "    !mkdir {LABELIMG_PATH}\n",
    "    !git clone https://github.com/tzutalin/labelImg {LABELIMG_PATH}"
   ]
  },
  {
   "cell_type": "code",
   "execution_count": 3,
   "metadata": {},
   "outputs": [],
   "source": [
    "if os.name == 'posix':\n",
    "    !make qt5py3\n",
    "if os.name =='nt':\n",
    "    !cd {LABELIMG_PATH} && pyrcc5 -o libs/resources.py resources.qrc"
   ]
  },
  {
   "cell_type": "code",
   "execution_count": 4,
   "metadata": {},
   "outputs": [
    {
     "name": "stdout",
     "output_type": "stream",
     "text": [
      "Image:C:\\Users\\ACER-NITRO\\Documents\\3rd Yr - 2nd SEM\\ECE160\\TFODCourse\\Tensorflow\\workspace\\images\\collectedimages\\2022\\2022.42f8db8a-c2f1-11ec-8e74-089798b99c67.jpg -> Annotation:C:/Users/ACER-NITRO/Documents/3rd Yr - 2nd SEM/ECE160/TFODCourse/Tensorflow/workspace/images/collectedimages/2022/2022.42f8db8a-c2f1-11ec-8e74-089798b99c67.xml\n",
      "Image:C:\\Users\\ACER-NITRO\\Documents\\3rd Yr - 2nd SEM\\ECE160\\TFODCourse\\Tensorflow\\workspace\\images\\collectedimages\\2022\\2022.47d30017-c2f1-11ec-a151-089798b99c67.jpg -> Annotation:C:/Users/ACER-NITRO/Documents/3rd Yr - 2nd SEM/ECE160/TFODCourse/Tensorflow/workspace/images/collectedimages/2022/2022.47d30017-c2f1-11ec-a151-089798b99c67.xml\n",
      "Image:C:\\Users\\ACER-NITRO\\Documents\\3rd Yr - 2nd SEM\\ECE160\\TFODCourse\\Tensorflow\\workspace\\images\\collectedimages\\2022\\2022.469e2771-c2f1-11ec-a5b5-089798b99c67.jpg -> Annotation:C:/Users/ACER-NITRO/Documents/3rd Yr - 2nd SEM/ECE160/TFODCourse/Tensorflow/workspace/images/collectedimages/2022/2022.469e2771-c2f1-11ec-a5b5-089798b99c67.xml\n",
      "Image:C:\\Users\\ACER-NITRO\\Documents\\3rd Yr - 2nd SEM\\ECE160\\TFODCourse\\Tensorflow\\workspace\\images\\collectedimages\\2022\\2022.45674eb2-c2f1-11ec-a3b5-089798b99c67.jpg -> Annotation:C:/Users/ACER-NITRO/Documents/3rd Yr - 2nd SEM/ECE160/TFODCourse/Tensorflow/workspace/images/collectedimages/2022/2022.45674eb2-c2f1-11ec-a3b5-089798b99c67.xml\n",
      "Image:C:\\Users\\ACER-NITRO\\Documents\\3rd Yr - 2nd SEM\\ECE160\\TFODCourse\\Tensorflow\\workspace\\images\\collectedimages\\2022\\2022.44332566-c2f1-11ec-90f5-089798b99c67.jpg -> Annotation:C:/Users/ACER-NITRO/Documents/3rd Yr - 2nd SEM/ECE160/TFODCourse/Tensorflow/workspace/images/collectedimages/2022/2022.44332566-c2f1-11ec-90f5-089798b99c67.xml\n",
      "Image:C:\\Users\\ACER-NITRO\\Documents\\3rd Yr - 2nd SEM\\ECE160\\TFODCourse\\Tensorflow\\workspace\\images\\collectedimages\\2022\\2022.c3bd4136-c2f0-11ec-a3e9-089798b99c67.jpg -> Annotation:C:/Users/ACER-NITRO/Documents/3rd Yr - 2nd SEM/ECE160/TFODCourse/Tensorflow/workspace/images/collectedimages/2022/2022.c3bd4136-c2f0-11ec-a3e9-089798b99c67.xml\n",
      "Image:C:\\Users\\ACER-NITRO\\Documents\\3rd Yr - 2nd SEM\\ECE160\\TFODCourse\\Tensorflow\\workspace\\images\\collectedimages\\2022\\2022.c4f530ec-c2f0-11ec-a4e4-089798b99c67.jpg -> Annotation:C:/Users/ACER-NITRO/Documents/3rd Yr - 2nd SEM/ECE160/TFODCourse/Tensorflow/workspace/images/collectedimages/2022/2022.c4f530ec-c2f0-11ec-a4e4-089798b99c67.xml\n",
      "Image:C:\\Users\\ACER-NITRO\\Documents\\3rd Yr - 2nd SEM\\ECE160\\TFODCourse\\Tensorflow\\workspace\\images\\collectedimages\\2022\\2022.c62abb9b-c2f0-11ec-b32c-089798b99c67.jpg -> Annotation:C:/Users/ACER-NITRO/Documents/3rd Yr - 2nd SEM/ECE160/TFODCourse/Tensorflow/workspace/images/collectedimages/2022/2022.c62abb9b-c2f0-11ec-b32c-089798b99c67.xml\n",
      "Image:C:\\Users\\ACER-NITRO\\Documents\\3rd Yr - 2nd SEM\\ECE160\\TFODCourse\\Tensorflow\\workspace\\images\\collectedimages\\2022\\2022.c897cfd6-c2f0-11ec-a204-089798b99c67.jpg -> Annotation:C:/Users/ACER-NITRO/Documents/3rd Yr - 2nd SEM/ECE160/TFODCourse/Tensorflow/workspace/images/collectedimages/2022/2022.c897cfd6-c2f0-11ec-a204-089798b99c67.xml\n",
      "Image:C:\\Users\\ACER-NITRO\\Documents\\3rd Yr - 2nd SEM\\ECE160\\TFODCourse\\Tensorflow\\workspace\\images\\collectedimages\\2022\\2022.c7617884-c2f0-11ec-b2f6-089798b99c67.jpg -> Annotation:C:/Users/ACER-NITRO/Documents/3rd Yr - 2nd SEM/ECE160/TFODCourse/Tensorflow/workspace/images/collectedimages/2022/2022.c7617884-c2f0-11ec-b2f6-089798b99c67.xml\n",
      "Image:C:\\Users\\ACER-NITRO\\Documents\\3rd Yr - 2nd SEM\\ECE160\\TFODCourse\\Tensorflow\\workspace\\images\\collectedimages\\2023\\2023.4cf681c3-c2f1-11ec-b506-089798b99c67.jpg -> Annotation:C:/Users/ACER-NITRO/Documents/3rd Yr - 2nd SEM/ECE160/TFODCourse/Tensorflow/workspace/images/collectedimages/2023/2023.4cf681c3-c2f1-11ec-b506-089798b99c67.xml\n",
      "Image:C:\\Users\\ACER-NITRO\\Documents\\3rd Yr - 2nd SEM\\ECE160\\TFODCourse\\Tensorflow\\workspace\\images\\collectedimages\\2023\\2023.4e2baba6-c2f1-11ec-acbc-089798b99c67.jpg -> Annotation:C:/Users/ACER-NITRO/Documents/3rd Yr - 2nd SEM/ECE160/TFODCourse/Tensorflow/workspace/images/collectedimages/2023/2023.4e2baba6-c2f1-11ec-acbc-089798b99c67.xml\n",
      "Image:C:\\Users\\ACER-NITRO\\Documents\\3rd Yr - 2nd SEM\\ECE160\\TFODCourse\\Tensorflow\\workspace\\images\\collectedimages\\2023\\2023.4f60f84e-c2f1-11ec-bb11-089798b99c67.jpg -> Annotation:C:/Users/ACER-NITRO/Documents/3rd Yr - 2nd SEM/ECE160/TFODCourse/Tensorflow/workspace/images/collectedimages/2023/2023.4f60f84e-c2f1-11ec-bb11-089798b99c67.xml\n",
      "Image:C:\\Users\\ACER-NITRO\\Documents\\3rd Yr - 2nd SEM\\ECE160\\TFODCourse\\Tensorflow\\workspace\\images\\collectedimages\\2023\\2023.51cde914-c2f1-11ec-9ba0-089798b99c67.jpg -> Annotation:C:/Users/ACER-NITRO/Documents/3rd Yr - 2nd SEM/ECE160/TFODCourse/Tensorflow/workspace/images/collectedimages/2023/2023.51cde914-c2f1-11ec-9ba0-089798b99c67.xml\n",
      "Image:C:\\Users\\ACER-NITRO\\Documents\\3rd Yr - 2nd SEM\\ECE160\\TFODCourse\\Tensorflow\\workspace\\images\\collectedimages\\2023\\2023.5097a168-c2f1-11ec-b2fd-089798b99c67.jpg -> Annotation:C:/Users/ACER-NITRO/Documents/3rd Yr - 2nd SEM/ECE160/TFODCourse/Tensorflow/workspace/images/collectedimages/2023/2023.5097a168-c2f1-11ec-b2fd-089798b99c67.xml\n",
      "Image:C:\\Users\\ACER-NITRO\\Documents\\3rd Yr - 2nd SEM\\ECE160\\TFODCourse\\Tensorflow\\workspace\\images\\collectedimages\\2023\\2023.cdbcc9b8-c2f0-11ec-aae2-089798b99c67.jpg -> Annotation:C:/Users/ACER-NITRO/Documents/3rd Yr - 2nd SEM/ECE160/TFODCourse/Tensorflow/workspace/images/collectedimages/2023/2023.cdbcc9b8-c2f0-11ec-aae2-089798b99c67.xml\n",
      "Image:C:\\Users\\ACER-NITRO\\Documents\\3rd Yr - 2nd SEM\\ECE160\\TFODCourse\\Tensorflow\\workspace\\images\\collectedimages\\2023\\2023.cef2d9db-c2f0-11ec-acb4-089798b99c67.jpg -> Annotation:C:/Users/ACER-NITRO/Documents/3rd Yr - 2nd SEM/ECE160/TFODCourse/Tensorflow/workspace/images/collectedimages/2023/2023.cef2d9db-c2f0-11ec-acb4-089798b99c67.xml\n",
      "Image:C:\\Users\\ACER-NITRO\\Documents\\3rd Yr - 2nd SEM\\ECE160\\TFODCourse\\Tensorflow\\workspace\\images\\collectedimages\\2023\\2023.d15d0d63-c2f0-11ec-904f-089798b99c67.jpg -> Annotation:C:/Users/ACER-NITRO/Documents/3rd Yr - 2nd SEM/ECE160/TFODCourse/Tensorflow/workspace/images/collectedimages/2023/2023.d15d0d63-c2f0-11ec-904f-089798b99c67.xml\n",
      "Image:C:\\Users\\ACER-NITRO\\Documents\\3rd Yr - 2nd SEM\\ECE160\\TFODCourse\\Tensorflow\\workspace\\images\\collectedimages\\2023\\2023.d291b136-c2f0-11ec-85c3-089798b99c67.jpg -> Annotation:C:/Users/ACER-NITRO/Documents/3rd Yr - 2nd SEM/ECE160/TFODCourse/Tensorflow/workspace/images/collectedimages/2023/2023.d291b136-c2f0-11ec-85c3-089798b99c67.xml\n",
      "Image:C:\\Users\\ACER-NITRO\\Documents\\3rd Yr - 2nd SEM\\ECE160\\TFODCourse\\Tensorflow\\workspace\\images\\collectedimages\\2023\\2023.d028924f-c2f0-11ec-acda-089798b99c67.jpg -> Annotation:C:/Users/ACER-NITRO/Documents/3rd Yr - 2nd SEM/ECE160/TFODCourse/Tensorflow/workspace/images/collectedimages/2023/2023.d028924f-c2f0-11ec-acda-089798b99c67.xml\n"
     ]
    }
   ],
   "source": [
    "!cd {LABELIMG_PATH} && python labelImg.py"
   ]
  },
  {
   "cell_type": "markdown",
   "metadata": {},
   "source": [
    "# 6. Move them into a Training and Testing Partition"
   ]
  },
  {
   "cell_type": "markdown",
   "metadata": {},
   "source": [
    "# OPTIONAL - 7. Compress them for Colab Training"
   ]
  },
  {
   "cell_type": "code",
   "execution_count": null,
   "metadata": {},
   "outputs": [],
   "source": [
    "TRAIN_PATH = os.path.join('Tensorflow', 'workspace', 'images', 'train')\n",
    "TEST_PATH = os.path.join('Tensorflow', 'workspace', 'images', 'test')\n",
    "ARCHIVE_PATH = os.path.join('Tensorflow', 'workspace', 'images', 'archive.tar.gz')"
   ]
  },
  {
   "cell_type": "code",
   "execution_count": null,
   "metadata": {},
   "outputs": [],
   "source": [
    "!tar -czf {ARCHIVE_PATH} {TRAIN_PATH} {TEST_PATH}"
   ]
  },
  {
   "cell_type": "code",
   "execution_count": null,
   "metadata": {},
   "outputs": [],
   "source": []
  }
 ],
 "metadata": {
  "interpreter": {
   "hash": "f7e022b67859ae4a791bbcc1c75bde8b3a5bef3b9abb0060fdb4399d638fb2f6"
  },
  "kernelspec": {
   "display_name": "tfod",
   "language": "python",
   "name": "python3"
  },
  "language_info": {
   "codemirror_mode": {
    "name": "ipython",
    "version": 3
   },
   "file_extension": ".py",
   "mimetype": "text/x-python",
   "name": "python",
   "nbconvert_exporter": "python",
   "pygments_lexer": "ipython3",
   "version": "3.9.12"
  }
 },
 "nbformat": 4,
 "nbformat_minor": 2
}
